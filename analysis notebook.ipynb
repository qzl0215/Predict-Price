{
 "cells": [
  {
   "cell_type": "code",
   "execution_count": 4,
   "metadata": {
    "collapsed": false
   },
   "outputs": [
    {
     "name": "stdout",
     "output_type": "stream",
     "text": [
      "Score of regression model is  0.94983422616\n"
     ]
    }
   ],
   "source": [
    "from sklearn.externals import joblib\n",
    "from sklearn.neural_network import MLPRegressor\n",
    "from sklearn.ensemble import RandomForestRegressor\n",
    "from sklearn.model_selection import train_test_split\n",
    "from sklearn.externals import joblib\n",
    "import pandas as pd\n",
    "\n",
    "data = pd.read_csv('boscun_X.csv')\n",
    "X = pd.read_csv('boscun_X.csv').values\n",
    "y = pd.read_csv('boscun_y.csv').values\n",
    "column_names = data.columns\n",
    "# random selection\n",
    "train_x_disorder, test_x_disorder, train_y_disorder, test_y_disorder = train_test_split(X, y, train_size=0.8,\n",
    "                                                                                        random_state=1)\n",
    "model_random_forest = RandomForestRegressor(n_estimators= 10, random_state = 1)\n",
    "model_random_forest.fit(train_x_disorder, train_y_disorder.ravel())\n",
    "mlp_score = model_random_forest.score(test_x_disorder, test_y_disorder.ravel())\n",
    "print('Score of regression model is ', mlp_score)"
   ]
  },
  {
   "cell_type": "code",
   "execution_count": 5,
   "metadata": {
    "collapsed": false
   },
   "outputs": [],
   "source": [
    "import numpy as np\n",
    "\n",
    "b = pd.DataFrame()\n",
    "index = np.argsort(model_random_forest.feature_importances_)\n",
    "b = pd.DataFrame(columns = column_names[index])\n",
    "b.loc[0,:] = model_random_forest.feature_importances_[index]"
   ]
  },
  {
   "cell_type": "code",
   "execution_count": 6,
   "metadata": {
    "collapsed": false
   },
   "outputs": [],
   "source": [
    "y_predicted = model_random_forest.predict(test_x_disorder)"
   ]
  },
  {
   "cell_type": "code",
   "execution_count": 21,
   "metadata": {
    "collapsed": false
   },
   "outputs": [
    {
     "data": {
      "text/plain": [
       "(array([     2,     12,   1027, 600233,    593,     11,      0,      3,\n",
       "             0,      1]),\n",
       " array([-2827.9  , -1996.545, -1165.19 ,  -333.835,   497.52 ,  1328.875,\n",
       "         2160.23 ,  2991.585,  3822.94 ,  4654.295,  5485.65 ]))"
      ]
     },
     "execution_count": 21,
     "metadata": {},
     "output_type": "execute_result"
    }
   ],
   "source": [
    "np.histogram(test_y_disorder.ravel() - y_predicted)"
   ]
  },
  {
   "cell_type": "code",
   "execution_count": 60,
   "metadata": {
    "collapsed": false
   },
   "outputs": [
    {
     "name": "stdout",
     "output_type": "stream",
     "text": [
      "-11.70675 12.31075\n"
     ]
    },
    {
     "data": {
      "image/png": "[encoded data removed]",
      "text/plain": [
       "<matplotlib.figure.Figure at 0x177051e48>"
      ]
     },
     "metadata": {},
     "output_type": "display_data"
    }
   ],
   "source": [
    "import matplotlib.pyplot as plt\n",
    "\n",
    "bin1 = np.arange(-100., 100., 5.)\n",
    "error = test_y_disorder.ravel() - y_predicted\n",
    "\n",
    "plt.hist(error, bin1, histtype='stepfilled')  # plt.hist passes it's arguments to np.histogram\n",
    "plt.title(\"Histogram of testing data error with 80% band\")\n",
    "\n",
    "p25 = np.percentile(error, 25)\n",
    "p75 = np.percentile(error, 75)\n",
    "\n",
    "print(p25, p75)\n",
    "\n",
    "\n",
    "plt.axvline(p25,linewidth=4, color='r')\n",
    "plt.axvline(p75,linewidth=4, color='r')\n",
    "\n",
    "plt.show()"
   ]
  },
  {
   "cell_type": "code",
   "execution_count": 13,
   "metadata": {
    "collapsed": false
   },
   "outputs": [
    {
     "data": {
      "text/plain": [
       "array([[  473.91],\n",
       "       [ 1219.69],\n",
       "       [  321.93],\n",
       "       ..., \n",
       "       [  456.29],\n",
       "       [  574.43],\n",
       "       [ 1835.83]])"
      ]
     },
     "execution_count": 13,
     "metadata": {},
     "output_type": "execute_result"
    }
   ],
   "source": [
    "p = np.percentile(a, 50)"
   ]
  },
  {
   "cell_type": "code",
   "execution_count": null,
   "metadata": {
    "collapsed": true
   },
   "outputs": [],
   "source": []
  }
 ],
 "metadata": {
  "kernelspec": {
   "display_name": "Python 3",
   "language": "python",
   "name": "python3"
  },
  "language_info": {
   "codemirror_mode": {
    "name": "ipython",
    "version": 3
   },
   "file_extension": ".py",
   "mimetype": "text/x-python",
   "name": "python",
   "nbconvert_exporter": "python",
   "pygments_lexer": "ipython3",
   "version": "3.5.3"
  }
 },
 "nbformat": 4,
 "nbformat_minor": 2
}
