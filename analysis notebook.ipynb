{
 "cells": [
  {
   "cell_type": "code",
   "execution_count": 61,
   "metadata": {
    "collapsed": false
   },
   "outputs": [
    {
     "name": "stdout",
     "output_type": "stream",
     "text": [
      "Score of regression model is  0.94995801221\n"
     ]
    }
   ],
   "source": [
    "from sklearn.ensemble import RandomForestRegressor\n",
    "from sklearn.model_selection import train_test_split\n",
    "import pandas as pd\n",
    "\n",
    "data = pd.read_csv('boscun_X.csv')\n",
    "X = pd.read_csv('boscun_X.csv').values\n",
    "y = pd.read_csv('boscun_y.csv').values\n",
    "column_names = data.columns\n",
    "# random selection\n",
    "train_x_disorder, test_x_disorder, train_y_disorder, test_y_disorder = train_test_split(X, y, train_size=0.8,\n",
    "                                                                                        random_state=1)\n",
    "model_random_forest = RandomForestRegressor(n_estimators= 10, random_state = 2)\n",
    "model_random_forest.fit(train_x_disorder, train_y_disorder.ravel())\n",
    "mlp_score = model_random_forest.score(test_x_disorder, test_y_disorder.ravel())\n",
    "print('Score of regression model is ', mlp_score)"
   ]
  },
  {
   "cell_type": "code",
   "execution_count": 62,
   "metadata": {
    "collapsed": false
   },
   "outputs": [],
   "source": [
    "import numpy as np\n",
    "b = pd.DataFrame()\n",
    "index = np.argsort(model_random_forest.feature_importances_)\n",
    "b = pd.DataFrame(columns = column_names[index])\n",
    "b.loc[0,:] = model_random_forest.feature_importances_[index]"
   ]
  },
  {
   "cell_type": "code",
   "execution_count": 63,
   "metadata": {
    "collapsed": false
   },
   "outputs": [
    {
     "name": "stdout",
     "output_type": "stream",
     "text": [
      "The 50% interval is [ -11.84575 ,  12.296 ]\n"
     ]
    },
    {
     "data": {
      "image/png": "[encoded data removed]",
      "text/plain": [
       "<matplotlib.figure.Figure at 0x16d31de48>"
      ]
     },
     "metadata": {},
     "output_type": "display_data"
    }
   ],
   "source": [
    "import matplotlib.pyplot as plt\n",
    "\n",
    "bin1 = np.arange(-100., 100., 5.)\n",
    "y_predicted = model_random_forest.predict(test_x_disorder)\n",
    "error = test_y_disorder.ravel() - y_predicted\n",
    "\n",
    "plt.hist(error, bin1, histtype='stepfilled')  # plt.hist passes it's arguments to np.histogram\n",
    "plt.title(\"Histogram of prediction error\")\n",
    "\n",
    "p25 = np.percentile(error, 25)\n",
    "p75 = np.percentile(error, 75)\n",
    "\n",
    "print('The 50% interval is [', p25,', ', p75,']')\n",
    "\n",
    "plt.axvline(p25,linewidth=4, color='r')\n",
    "plt.axvline(p75,linewidth=4, color='r')\n",
    "\n",
    "plt.show()"
   ]
  }
 ],
 "metadata": {
  "kernelspec": {
   "display_name": "Python 3",
   "language": "python",
   "name": "python3"
  },
  "language_info": {
   "codemirror_mode": {
    "name": "ipython",
    "version": 3.0
   },
   "file_extension": ".py",
   "mimetype": "text/x-python",
   "name": "python",
   "nbconvert_exporter": "python",
   "pygments_lexer": "ipython3",
   "version": "3.5.3"
  }
 },
 "nbformat": 4,
 "nbformat_minor": 0
}